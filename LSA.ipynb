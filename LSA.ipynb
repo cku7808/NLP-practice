{
  "nbformat": 4,
  "nbformat_minor": 0,
  "metadata": {
    "colab": {
      "provenance": [],
      "collapsed_sections": [
        "UFzKsHwYLlS9"
      ],
      "authorship_tag": "ABX9TyNChx3pBL5U0X5H4rP57EYy",
      "include_colab_link": true
    },
    "kernelspec": {
      "name": "python3",
      "display_name": "Python 3"
    },
    "language_info": {
      "name": "python"
    }
  },
  "cells": [
    {
      "cell_type": "markdown",
      "metadata": {
        "id": "view-in-github",
        "colab_type": "text"
      },
      "source": [
        "<a href=\"https://colab.research.google.com/github/cku7808/NLP-practice/blob/main/LSA.ipynb\" target=\"_parent\"><img src=\"https://colab.research.google.com/assets/colab-badge.svg\" alt=\"Open In Colab\"/></a>"
      ]
    },
    {
      "cell_type": "markdown",
      "source": [
        "# **LSA(Latent Semantic Analysis, 잠재 의미 분석)**"
      ],
      "metadata": {
        "id": "Z47YLu5ZDw9q"
      }
    },
    {
      "cell_type": "markdown",
      "source": [
        "TF-IDF와 Bag of Words는 토픽 기반이 아닌 단어 기반의 벡터이기 때문에 연관성이 있음에도 단어가 다르면 유사도가 0이 됨  \n",
        "ex) hamberger, pizza -> 미국 음식 이라는 연관성이 있으나, 코사인 유사도 측정의 결과는 0"
      ],
      "metadata": {
        "id": "bj0AtGoIFFmb"
      }
    },
    {
      "cell_type": "markdown",
      "source": [
        "**그러나 LSA는 토픽 기반이기 때문에 유사도를 구할 수 있음**"
      ],
      "metadata": {
        "id": "XU6O-eUrFhZy"
      }
    },
    {
      "cell_type": "markdown",
      "source": [
        "# 선행 개념"
      ],
      "metadata": {
        "id": "eRhY8DuOHL0I"
      }
    },
    {
      "cell_type": "markdown",
      "source": [
        "**SVD(Singular Value Decomposition, 특이값 분해)**"
      ],
      "metadata": {
        "id": "6P6Mw_VMFgsT"
      }
    },
    {
      "cell_type": "markdown",
      "source": [
        "SVD는 A가 m * n 행렬일 때, 다음과 같은 3개의 행렬의 곱으로 분해하는 것이다.  \n",
        "$U : m*m$ 직교 행렬  \n",
        "$V : n * n$ 직교 행렬  \n",
        "$Σ : m * n$ 직사각 대각 행렬    \n",
        "\n",
        "\n",
        "\n"
      ],
      "metadata": {
        "id": "-mahDCdmHXSq"
      }
    },
    {
      "cell_type": "markdown",
      "source": [
        "# *행렬 설명*"
      ],
      "metadata": {
        "id": "UFzKsHwYLlS9"
      }
    },
    {
      "cell_type": "markdown",
      "source": [
        "**직교 행렬** : `자신과 자신의 전치 행렬의 곱` or `자신의 전치 행렬과 자신의 곱`이 단위 행렬이 되는 행렬  \n",
        "  \n",
        "**단위 행렬(Identity Matrix)** : 주 대각선의 원소가 모두 1이고 나머지 원소는 모두 0인 정사각 행렬  \n",
        "$ I= \n",
        "\\left[\\begin{matrix}\n",
        "    1 & 0 & 0\\\\\n",
        "    0 & 1 & 0\\\\\n",
        "    0 & 0 & 1\\\\\n",
        "\\end{matrix}\n",
        "\\right] $  \n",
        "  \n",
        "*그런데 만약 행렬 A와 어떤 행렬의 곱이 단위 행렬(Identity Matrix)이라면 그 어떤 행렬은 행렬 A의 역행렬이다.  \n",
        "$A \\times A^{-1} = I$  "
      ],
      "metadata": {
        "id": "ngSqtrhJLkuF"
      }
    },
    {
      "cell_type": "markdown",
      "source": [
        "-> 직교 행렬 : $A \\times A^T = I$를 만족하면서 $A^T \\times A = I$를 동시에 만족하는 행렬 A  \n",
        "그리고 역행렬의 정의에 따라 $A^T = A^{-1}$을 만족한다.\n",
        "\n"
      ],
      "metadata": {
        "id": "BT1xjZ9zKYRH"
      }
    },
    {
      "cell_type": "markdown",
      "source": [
        "**대각 행렬** : 주 대각선을 제외한 나머지 원소가 0인 행렬  \n",
        "ex) 3*3 대각 행렬  \n",
        "$Σ = \\left[\\begin{matrix}\n",
        "    a & 0 & 0\\\\\n",
        "    0 & a & 0\\\\\n",
        "    0 & 0 & a\\\\\n",
        "\\end{matrix}\n",
        "\\right] $  \n",
        "  \n",
        "  \n",
        "그러나, m * n인 직사각 행렬인 경우는?  \n",
        "$Σ = \\left[\\begin{matrix}\n",
        "    a & 0 & 0 & 0\\\\\n",
        "    0 & a & 0 & 0\\\\\n",
        "    0 & 0 & a & 0\\\\\n",
        "\\end{matrix}\n",
        "\\right] $  \n",
        "$Σ = \\left[\\begin{matrix}\n",
        "    a & 0 & 0\\\\\n",
        "    0 & a & 0\\\\\n",
        "    0 & 0 & a\\\\\n",
        "    0 & 0 & 0\\\\\n",
        "\\end{matrix}\n",
        "\\right] $  \n",
        "위와 같은 형태를 갖는다."
      ],
      "metadata": {
        "id": "GYK0wf1MKwQG"
      }
    },
    {
      "cell_type": "markdown",
      "source": [
        "# 다시 되돌아가서 ,,"
      ],
      "metadata": {
        "id": "wB1flQXcMuHc"
      }
    },
    {
      "cell_type": "markdown",
      "source": [
        "SVD를 통해 나온 대각 행렬 $Σ$의 주대각원소를 행렬 A의 특이값이라고 부른다.  \n",
        "그리고 이 특이값을 $σ_1,σ_2,...,σ_r$이라고 표현할 때, 특이값은 내림차순으로 정렬되어 있다!  \n",
        "ex) $Σ = \\left[\\begin{matrix}\n",
        "    12.4 & 0 & 0\\\\\n",
        "    0 & 9.5 & 0\\\\\n",
        "    0 & 0 & 1.3\\\\\n",
        "\\end{matrix}\n",
        "\\right] $  "
      ],
      "metadata": {
        "id": "SW-TpMqML4D0"
      }
    },
    {
      "cell_type": "markdown",
      "source": [
        "앞서 설명한 SVD를 Full SVD라고 부르는데, LSA에서는 Full SVD를 사용하는 것이 아니라 3개의 행렬에서 일부 벡터들을 제외한 **절단된 SVD(Truncated SVD)**를 사용한다.  \n",
        "<img src=\"https://drive.google.com/uc?id=193zdAmFey82kWABZLYl6nPb0UNdSHoKT\">  \n",
        "  \n",
        "절단된 SVD는 대각 행렬 $Σ$의 주대각원소 중 상위값 t개만 보존되기 때문에 본래의 행렬 A로 복구할 수 없음  \n",
        "* 여기서 t는 우리가 찾고자 하는 토픽의 개수를 의미한다  \n",
        "* t를 크게 잡으면 기존 행렬의 정보를 더 많이 저장할 수 있지만, t를 작게 잡아야 노이즈가 줄어든다  \n",
        "  \n",
        "이렇게 일부 벡터들을 삭제하는 것을 **차원 축소**라고 부른다 -> 계산 비용 감소, 상대적으로 덜 중요한 정보 제거"
      ],
      "metadata": {
        "id": "xCuHQsg_M4ns"
      }
    },
    {
      "cell_type": "markdown",
      "source": [
        "# LSA"
      ],
      "metadata": {
        "id": "RJxYdZFxOY-s"
      }
    },
    {
      "cell_type": "markdown",
      "source": [
        "기존의 DTM, TF-IDF는 단어의 의미를 전혀 고려하지 않는다는 한계점을 지님  \n",
        "그러나, LSA는 DTM/TF-IDF 행렬에 절단된 SVD를 사용하여 차원을 축소시킴으로써 단어들의 잠재된 의미를 끌어낼 수 있음"
      ],
      "metadata": {
        "id": "SNL_PA4hOqVq"
      }
    },
    {
      "cell_type": "code",
      "source": [
        "import numpy as np\n",
        "from math import log\n",
        "\n",
        "docs = [\n",
        "    \"먹고 싶은 사과\",\n",
        "    \"먹고 싶은 바나나\",\n",
        "    \"길고 노란 바나나 바나나\",\n",
        "    \"저는 과일이 좋아요\"\n",
        "]\n",
        "vocab = list(set(w for doc in docs for w in doc.split()))\n",
        "\n",
        "vocab.sort()"
      ],
      "metadata": {
        "id": "4hZivFwSPeIr"
      },
      "execution_count": 1,
      "outputs": []
    },
    {
      "cell_type": "code",
      "source": [
        "# 총 문서의 개수 n\n",
        "n = len(docs)\n",
        "\n",
        "# TF 함수\n",
        "def tf(t,doc):\n",
        "  return doc.count(t)"
      ],
      "metadata": {
        "id": "-0dN1VPkPgcL"
      },
      "execution_count": 2,
      "outputs": []
    },
    {
      "cell_type": "code",
      "source": [
        "# docs의 TF 구하기 -> DTM 만들기\n",
        "DTM = []\n",
        "for i in range(n):\n",
        "  tmp = []\n",
        "  for elem in vocab:\n",
        "    tmp.append(tf(elem,docs[i]))\n",
        "  DTM.append(tmp)\n",
        "\n",
        "TF = np.array(DTM)\n",
        "TF\n"
      ],
      "metadata": {
        "colab": {
          "base_uri": "https://localhost:8080/"
        },
        "id": "0AR4YY4jPnrT",
        "outputId": "8c9a874d-7b73-4862-fc69-2174b838f886"
      },
      "execution_count": 3,
      "outputs": [
        {
          "output_type": "execute_result",
          "data": {
            "text/plain": [
              "array([[0, 0, 0, 1, 0, 1, 1, 0, 0],\n",
              "       [0, 0, 0, 1, 1, 0, 1, 0, 0],\n",
              "       [0, 1, 1, 0, 2, 0, 0, 0, 0],\n",
              "       [1, 0, 0, 0, 0, 0, 0, 1, 1]])"
            ]
          },
          "metadata": {},
          "execution_count": 3
        }
      ]
    },
    {
      "cell_type": "code",
      "source": [
        "np.shape(TF)"
      ],
      "metadata": {
        "colab": {
          "base_uri": "https://localhost:8080/"
        },
        "id": "Bsw-Qce8QAvb",
        "outputId": "79b16bd0-e970-4137-8cad-e33202fcaf28"
      },
      "execution_count": 4,
      "outputs": [
        {
          "output_type": "execute_result",
          "data": {
            "text/plain": [
              "(4, 9)"
            ]
          },
          "metadata": {},
          "execution_count": 4
        }
      ]
    },
    {
      "cell_type": "markdown",
      "source": [
        "만들어진 4*9 DTM에 대해서 Full SVD를 수행"
      ],
      "metadata": {
        "id": "yPdDpEl4QE0R"
      }
    },
    {
      "cell_type": "code",
      "source": [
        "# 대각 행렬 시그마 : S\n",
        "# np.linalg.svd는 대각행렬을 반환하는 것이 아닌 특이값 벡터를 반환\n",
        "U, S, VT = np.linalg.svd(TF, full_matrices=True)\n",
        "\n",
        "# 4*4 직교 행렬 U\n",
        "print(\"행렬 U :\")\n",
        "print(U.round(2))\n",
        "print(\"행렬 U의 크기 :\",np.shape(U))"
      ],
      "metadata": {
        "colab": {
          "base_uri": "https://localhost:8080/"
        },
        "id": "scxfqthqQKHR",
        "outputId": "01bd00f2-46a5-4f89-d01c-3f983cf98f58"
      },
      "execution_count": 5,
      "outputs": [
        {
          "output_type": "stream",
          "name": "stdout",
          "text": [
            "행렬 U :\n",
            "[[-0.24  0.75  0.   -0.62]\n",
            " [-0.51  0.44 -0.    0.74]\n",
            " [-0.83 -0.49 -0.   -0.27]\n",
            " [-0.   -0.    1.    0.  ]]\n",
            "행렬 U의 크기 : (4, 4)\n"
          ]
        }
      ]
    },
    {
      "cell_type": "code",
      "source": [
        "# 대각 행렬 S\n",
        "print(\"특이값 벡터 :\")\n",
        "print(S.round(2))\n",
        "print(\"특이값 벡터의 크기 :\",np.shape(S))"
      ],
      "metadata": {
        "colab": {
          "base_uri": "https://localhost:8080/"
        },
        "id": "16ZDTqxSQmxr",
        "outputId": "6b5a7bf2-7940-4fc9-9c2d-cb42533d6fda"
      },
      "execution_count": 6,
      "outputs": [
        {
          "output_type": "stream",
          "name": "stdout",
          "text": [
            "특이값 벡터 :\n",
            "[2.69 2.05 1.73 0.77]\n",
            "특이값 벡터의 크기 : (4,)\n"
          ]
        }
      ]
    },
    {
      "cell_type": "markdown",
      "source": [
        "np.linalg.svd가 대각 행렬이 아닌 특이값 벡터를 반환하기 때문에 대각 행렬을 만들어 줌  \n",
        "np.diag는 입력값 n을 입력받아 1~n을 주대각원소로 갖는 대각 행렬을 만들어주는 함수  \n",
        "S = np.diag(3) => $S = \\left[\\begin{matrix}\n",
        "    1 & 0 & 0\\\\\n",
        "    0 & 2 & 0\\\\\n",
        "    0 & 0 & 3\\\\\n",
        "\\end{matrix}\n",
        "\\right]\n",
        "$"
      ],
      "metadata": {
        "id": "0RDxKmZSRLQh"
      }
    },
    {
      "cell_type": "code",
      "source": [
        "# 대각 행렬의 크기 4*9의 임의의 행렬 생성\n",
        "s = np.zeros((4,9))\n",
        "\n",
        "# 특이값 삽입\n",
        "s[:4,:4] = np.diag(S)\n",
        "\n",
        "print(\"대각 행렬 s\")\n",
        "print(s.round(2))\n",
        "\n",
        "print(\"대각 행렬의 크기 :\",np.shape(s))"
      ],
      "metadata": {
        "colab": {
          "base_uri": "https://localhost:8080/"
        },
        "id": "Cw1CKSb6RYOh",
        "outputId": "a1d7de44-cfa7-410e-fe5a-ab4e97b8a34d"
      },
      "execution_count": 7,
      "outputs": [
        {
          "output_type": "stream",
          "name": "stdout",
          "text": [
            "대각 행렬 s\n",
            "[[2.69 0.   0.   0.   0.   0.   0.   0.   0.  ]\n",
            " [0.   2.05 0.   0.   0.   0.   0.   0.   0.  ]\n",
            " [0.   0.   1.73 0.   0.   0.   0.   0.   0.  ]\n",
            " [0.   0.   0.   0.77 0.   0.   0.   0.   0.  ]]\n",
            "대각 행렬의 크기 : (4, 9)\n"
          ]
        }
      ]
    },
    {
      "cell_type": "code",
      "source": [
        "# 직교 행렬 VT\n",
        "print(\"직교 행렬 VT :\")\n",
        "print(VT.round(2))\n",
        "print(\"직교 행렬 VT의 크기 :\", np.shape(VT))"
      ],
      "metadata": {
        "colab": {
          "base_uri": "https://localhost:8080/"
        },
        "id": "6WVN5DBlXdsG",
        "outputId": "1419c019-1ae9-45c3-ce45-05a9e70e5de2"
      },
      "execution_count": 8,
      "outputs": [
        {
          "output_type": "stream",
          "name": "stdout",
          "text": [
            "직교 행렬 VT :\n",
            "[[-0.   -0.31 -0.31 -0.28 -0.8  -0.09 -0.28 -0.   -0.  ]\n",
            " [ 0.   -0.24 -0.24  0.58 -0.26  0.37  0.58 -0.   -0.  ]\n",
            " [ 0.58 -0.    0.    0.   -0.    0.   -0.    0.58  0.58]\n",
            " [ 0.   -0.35 -0.35  0.16  0.25 -0.8   0.16 -0.   -0.  ]\n",
            " [-0.   -0.78 -0.01 -0.2   0.4   0.4  -0.2   0.    0.  ]\n",
            " [-0.29  0.31 -0.78 -0.24  0.23  0.23  0.01  0.14  0.14]\n",
            " [-0.29 -0.1   0.26 -0.59 -0.08 -0.08  0.66  0.14  0.14]\n",
            " [-0.5  -0.06  0.15  0.24 -0.05 -0.05 -0.19  0.75 -0.25]\n",
            " [-0.5  -0.06  0.15  0.24 -0.05 -0.05 -0.19 -0.25  0.75]]\n",
            "직교 행렬 VT의 크기 : (9, 9)\n"
          ]
        }
      ]
    },
    {
      "cell_type": "markdown",
      "source": [
        "만들어진 4*9 DTM에 대하여 절단된 SVD(Truncated SVD) 수행"
      ],
      "metadata": {
        "id": "Kv-Bgo2vXvpZ"
      }
    },
    {
      "cell_type": "code",
      "source": [
        "# 특이값 상위 2개만 보존 -> 찾고자 하는 토픽이 2개\n",
        "s = s[:2,:2]\n",
        "print(\"대각 행렬 s :\")\n",
        "print(s.round(2))\n",
        "\n",
        "U = U[:,:2] #2개의 열만 남기고 제거 -> 2*2 대각 행렬에 맞춰 행렬의 곱을 수행할 수 있도록\n",
        "print(\"직교 행렬 U :\")\n",
        "print(U.round(2))\n",
        "\n",
        "VT = VT[:2,:] #2개의 행만 남기고 제거 -> 2*2 대각 행렬에 맞춰 행렬의 곱을 수행할 수 있도록\n",
        "print(\"직교 행렬 U :\")\n",
        "print(\"직교 행렬 VT :\")\n",
        "print(VT.round(2))"
      ],
      "metadata": {
        "colab": {
          "base_uri": "https://localhost:8080/"
        },
        "id": "xtPj97CXX5kO",
        "outputId": "ca696407-7312-4571-8b94-3d878e44f674"
      },
      "execution_count": 9,
      "outputs": [
        {
          "output_type": "stream",
          "name": "stdout",
          "text": [
            "대각 행렬 s :\n",
            "[[2.69 0.  ]\n",
            " [0.   2.05]]\n",
            "직교 행렬 U :\n",
            "[[-0.24  0.75]\n",
            " [-0.51  0.44]\n",
            " [-0.83 -0.49]\n",
            " [-0.   -0.  ]]\n",
            "직교 행렬 U :\n",
            "직교 행렬 VT :\n",
            "[[-0.   -0.31 -0.31 -0.28 -0.8  -0.09 -0.28 -0.   -0.  ]\n",
            " [ 0.   -0.24 -0.24  0.58 -0.26  0.37  0.58 -0.   -0.  ]]\n"
          ]
        }
      ]
    },
    {
      "cell_type": "markdown",
      "source": [
        "차원 축소된 행렬 U*s*VT는 기존 행렬 TF와는 다른 행렬이다.  \n",
        "축소된 행렬을 TF'이라 하고 두 행렬을 비교"
      ],
      "metadata": {
        "id": "Zp9M_ZAAZLFu"
      }
    },
    {
      "cell_type": "code",
      "source": [
        "TF_prime = np.dot(np.dot(U,s),VT)\n",
        "print(TF)\n",
        "print(TF_prime.round(2))"
      ],
      "metadata": {
        "colab": {
          "base_uri": "https://localhost:8080/"
        },
        "id": "VF2QtwDXZZHh",
        "outputId": "38175be3-d332-410a-ea99-0dc221c38e1b"
      },
      "execution_count": 11,
      "outputs": [
        {
          "output_type": "stream",
          "name": "stdout",
          "text": [
            "[[0 0 0 1 0 1 1 0 0]\n",
            " [0 0 0 1 1 0 1 0 0]\n",
            " [0 1 1 0 2 0 0 0 0]\n",
            " [1 0 0 0 0 0 0 1 1]]\n",
            "[[ 0.   -0.17 -0.17  1.08  0.12  0.62  1.08 -0.   -0.  ]\n",
            " [ 0.    0.2   0.2   0.91  0.86  0.45  0.91  0.    0.  ]\n",
            " [ 0.    0.93  0.93  0.03  2.05 -0.17  0.03  0.    0.  ]\n",
            " [ 0.    0.    0.    0.    0.    0.    0.    0.    0.  ]]\n"
          ]
        }
      ]
    },
    {
      "cell_type": "markdown",
      "source": [
        "*차원이 축소된 U, s, VT의 의미*  \n",
        "\n"
      ],
      "metadata": {
        "id": "Natrwj1-Z18N"
      }
    },
    {
      "cell_type": "markdown",
      "source": [
        "U : 축소된 U는 $4 \\times 2$의 크기를 갖는데, 이는 문서의 개수 * 토픽 개수 t의 크기 와 같다  \n",
        "-> 4개의 문서 각각을 2개의 값으로 표현  \n",
        "-> U의 각 행은 잠재 의미 표현을 위해 수치화된 각각의 문서 벡터  "
      ],
      "metadata": {
        "id": "7syeksRNaaBY"
      }
    },
    {
      "cell_type": "markdown",
      "source": [
        "VT : 축소된 VT는 $2 \\times 9$의 크기를 갖는데, 이는 토픽 개수 t * 단어의 개수 와 같다  \n",
        "-> VT의 각 열은 잠재 의미를 표현하기 위해 수치화된 각각의 단어 벡터"
      ],
      "metadata": {
        "id": "r4NuQF0Waz38"
      }
    },
    {
      "cell_type": "markdown",
      "source": [
        "# LSA의 장단점"
      ],
      "metadata": {
        "id": "uUl0jYbFbWFU"
      }
    },
    {
      "cell_type": "markdown",
      "source": [
        "**장점**  \n",
        "1. 쉽고 빠른 구현\n",
        "2. 단어의 잠재적 의미 도출\n",
        "3. 문서 유사도 계산\n",
        "\n",
        "**단점**\n",
        "1. SVD의 특성상 새로운 데이터를 추가하기 위해서는 처음부터 다시 계산해야함 -> 새로운 정보 업데이트 어려움"
      ],
      "metadata": {
        "id": "dgc_2BXHbYjL"
      }
    }
  ]
}