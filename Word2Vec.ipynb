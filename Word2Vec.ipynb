{
  "nbformat": 4,
  "nbformat_minor": 0,
  "metadata": {
    "colab": {
      "provenance": [],
      "collapsed_sections": [],
      "authorship_tag": "ABX9TyMXQOL9WN+TOao9qBLtqihH",
      "include_colab_link": true
    },
    "kernelspec": {
      "name": "python3",
      "display_name": "Python 3"
    },
    "language_info": {
      "name": "python"
    }
  },
  "cells": [
    {
      "cell_type": "markdown",
      "metadata": {
        "id": "view-in-github",
        "colab_type": "text"
      },
      "source": [
        "<a href=\"https://colab.research.google.com/github/cku7808/NLP-practice/blob/main/Word2Vec.ipynb\" target=\"_parent\"><img src=\"https://colab.research.google.com/assets/colab-badge.svg\" alt=\"Open In Colab\"/></a>"
      ]
    },
    {
      "cell_type": "markdown",
      "source": [
        "# **Word2Vec**"
      ],
      "metadata": {
        "id": "CZEc19lDd5Yb"
      }
    },
    {
      "cell_type": "markdown",
      "source": [
        "# 선행 개념"
      ],
      "metadata": {
        "id": "rDDqUGmfd8KL"
      }
    },
    {
      "cell_type": "markdown",
      "source": [
        "**인코딩**  \n",
        "딥러닝 모델은 텍스트를 입력으로 받을 수 없음, 숫자만 입력으로 받을 수 있음  \n",
        "-> 인코딩이란 텍스트를 숫자로 변환하는 것  \n",
        "  \n",
        "a : \"thank you\"  \n",
        "b : \"love you\"  \n",
        "\n",
        "|unique word|encoding|\n",
        "|:--:|:--:|\n",
        "|thank|0|\n",
        "|you|1|\n",
        "|love|2|"
      ],
      "metadata": {
        "id": "TwWktfaXd_NB"
      }
    },
    {
      "cell_type": "markdown",
      "source": [
        "**One-Hot Encoding**  \n",
        "단어가 3개가 있으니 3차원 벡터로 각 단어들을 표현하자  \n",
        "\n",
        "|unique word|encoding|\n",
        "|:--:|:--:|  \n",
        "|thank|[1,0,0]|\n",
        "|you|[0,1,0]|\n",
        "|love|[0,0,1]|  \n",
        "  \n",
        "그러나, One-Hot 인코딩 방식으로 표현된 단어들은 유사도를 가질 수 없음"
      ],
      "metadata": {
        "id": "xkslvq4UeT6X"
      }
    },
    {
      "cell_type": "markdown",
      "source": [
        "**임베딩**  \n",
        "단어 벡터 간의 유사도를 구할 수 있음  \n",
        "임베딩은 보통 One-Hot 인코딩에 비해 저차원의 벡터  \n",
        "  \n",
        "|unique word|encoding|embedding|\n",
        "|:--:|:--:|:--:|  \n",
        "|king|[1,0,0,0]|[1,2]|\n",
        "|man|[0,1,0,0]|[1,3]|\n",
        "|queen|[0,0,1,0]|[5,1]|  \n",
        "|woman|[0,0,0,0]|[5,3]|  \n",
        "  "
      ],
      "metadata": {
        "id": "6qtPtcogf-jH"
      }
    },
    {
      "cell_type": "markdown",
      "source": [
        "# Word2Vec"
      ],
      "metadata": {
        "id": "G7CPVkiFgsj7"
      }
    },
    {
      "cell_type": "markdown",
      "source": [
        "워드투벡은 이러한 임베딩 중의 하나이며, 유사도는 이웃한 단어들로 부터 구할 수 있음  \n"
      ],
      "metadata": {
        "id": "eU_W53NlgvTQ"
      }
    },
    {
      "cell_type": "markdown",
      "source": [
        "**Skipgram**  \n"
      ],
      "metadata": {
        "id": "AGgdILSbhSLy"
      }
    },
    {
      "cell_type": "markdown",
      "source": [
        "중심 단어에서 주변 단어를 예측하는 방법  \n",
        "a : \"king brave man\"  \n",
        "b : \"queen beautiful woman\"  \n",
        "위와 같은 두 문장이 존재하고, window size가 1이라고 하면 다음과 같다  \n",
        "\n",
        "|word|neighbor|\n",
        "|:--:|:--:|\n",
        "|king|brave|\n",
        "|brave|king|\n",
        "|brave|man|\n",
        "|man|brave|\n",
        "|queen|beautiful|\n",
        "|beautiful|queen|\n",
        "|beautiful|woman|\n",
        "|woman|beautiful|  \n",
        "  \n",
        "위와 같이 모든 단어들의 이웃 단어들을 얻게 되었고, 모델의 입력값은 인코딩 값(one-hot)이 된다. 그리고 타겟값은 이웃 단어의 인코딩 값(one-hot)이 되어 중간의 hidden value로서 임베딩 값을 얻는 것이 목적이다.  \n",
        "-> 즉 input과 target 인코딩 값을 통해 hidden layer의 가중치 w를 갱신시켜 나감  \n",
        "-> w가 점차 유사도를 갖기 위한 값으로 바뀜  \n",
        "\n",
        "![이미지](https://blog.kakaocdn.net/dn/LKTvQ/btqGgE38m8G/fGzPMpLefbrz4By0rvR4sK/img.png)  \n",
        "출처 : 허민석님 딥러닝 자연어 처리 Word2Vec 강의\n",
        "  \n",
        "**그리고 최종적으로 결정된 w 값들이 바로 Word2Vec이다.**  \n",
        "**임베딩 값 == w 값**"
      ],
      "metadata": {
        "id": "b8BVd-BUhflx"
      }
    },
    {
      "cell_type": "markdown",
      "source": [
        "input  \n",
        "$king = $  \n",
        "$[$  \n",
        "  $[1,0,0,0,0,0]$  \n",
        "  $]$  \n",
        "\n",
        "hidden layer  \n",
        "$[[1,1],$  \n",
        "$[1,2],$  \n",
        "$[1,3],$  \n",
        "$[5,5],$  \n",
        "$[5,6],$  \n",
        "$[5,7]]$  \n",
        "이라고 할 때, input이 one-hot 인코딩이기 때문에,  \n",
        "input $\\times$ hidden layer 가 hidden layer와 동일하다 -> hidden layer가 look up table의 역할을 할 수 있음\n"
      ],
      "metadata": {
        "id": "9nHYlhx-ivXv"
      }
    },
    {
      "cell_type": "code",
      "source": [
        "docs = [\n",
        "    \"king is a strong man\",\n",
        "    \"queen is a wise woman\",\n",
        "    \"boy is a young man\",\n",
        "    \"girl is a young woman\",\n",
        "    \"prince is a young king\",\n",
        "    \"princess is a young queen\",\n",
        "    \"man is strong\",\n",
        "    \"woman is pretty\",\n",
        "    \"prince is a boy will be king\",\n",
        "    \"princess is a girl will be queen\" \n",
        "]"
      ],
      "metadata": {
        "id": "S_XabE_YrZrk"
      },
      "execution_count": null,
      "outputs": []
    },
    {
      "cell_type": "code",
      "source": [
        "# 불용어 제거\n",
        "\n",
        "# 불용어 지정\n",
        "stop = [\"is\",\"a\",\"will\",\"be\"]\n",
        "\n",
        "result = [] #unique words\n",
        "docs2 = [] # 불용어 제거한 문장들\n",
        "for doc in docs:\n",
        "  tmp = []\n",
        "  for word in doc.split():\n",
        "    if word not in stop:\n",
        "      result.append(word)\n",
        "      tmp.append(word)\n",
        "  docs2.append(tmp)\n",
        "result = set(result)\n",
        "\n",
        "print(result)\n",
        "print(docs2)"
      ],
      "metadata": {
        "colab": {
          "base_uri": "https://localhost:8080/"
        },
        "id": "OwMj85h4r2tK",
        "outputId": "6686d912-1326-4be8-af10-485436886769"
      },
      "execution_count": null,
      "outputs": [
        {
          "output_type": "stream",
          "name": "stdout",
          "text": [
            "{'boy', 'young', 'pretty', 'woman', 'prince', 'king', 'girl', 'princess', 'man', 'strong', 'queen', 'wise'}\n",
            "[['king', 'strong', 'man'], ['queen', 'wise', 'woman'], ['boy', 'young', 'man'], ['girl', 'young', 'woman'], ['prince', 'young', 'king'], ['princess', 'young', 'queen'], ['man', 'strong'], ['woman', 'pretty'], ['prince', 'boy', 'king'], ['princess', 'girl', 'queen']]\n"
          ]
        }
      ]
    },
    {
      "cell_type": "code",
      "source": [
        "# 이웃 단어 찾기\n",
        "\n",
        "# input값 one-hot encoding을 위한 정수 인덱스 부여\n",
        "oneHot = {}\n",
        "for idx, word in enumerate(result):\n",
        "  oneHot[word] = idx\n",
        "\n",
        "window_size = 2\n",
        "with_neighbors = []\n",
        "for doc in docs2:\n",
        "  for i in range(len(doc)):\n",
        "    me = doc[i]\n",
        "    for j in doc[max(i-window_size,0):min(i+window_size+1,len(doc))]:\n",
        "      if j != me:\n",
        "        with_neighbors.append([me,j])\n",
        "print(with_neighbors)\n"
      ],
      "metadata": {
        "colab": {
          "base_uri": "https://localhost:8080/"
        },
        "id": "KsEpQTDGsYD9",
        "outputId": "b7a07c6e-62e1-4848-9496-a67f092b1983"
      },
      "execution_count": 21,
      "outputs": [
        {
          "output_type": "stream",
          "name": "stdout",
          "text": [
            "[['king', 'strong'], ['king', 'man'], ['strong', 'king'], ['strong', 'man'], ['man', 'king'], ['man', 'strong'], ['queen', 'wise'], ['queen', 'woman'], ['wise', 'queen'], ['wise', 'woman'], ['woman', 'queen'], ['woman', 'wise'], ['boy', 'young'], ['boy', 'man'], ['young', 'boy'], ['young', 'man'], ['man', 'boy'], ['man', 'young'], ['girl', 'young'], ['girl', 'woman'], ['young', 'girl'], ['young', 'woman'], ['woman', 'girl'], ['woman', 'young'], ['prince', 'young'], ['prince', 'king'], ['young', 'prince'], ['young', 'king'], ['king', 'prince'], ['king', 'young'], ['princess', 'young'], ['princess', 'queen'], ['young', 'princess'], ['young', 'queen'], ['queen', 'princess'], ['queen', 'young'], ['man', 'strong'], ['strong', 'man'], ['woman', 'pretty'], ['pretty', 'woman'], ['prince', 'boy'], ['prince', 'king'], ['boy', 'prince'], ['boy', 'king'], ['king', 'prince'], ['king', 'boy'], ['princess', 'girl'], ['princess', 'queen'], ['girl', 'princess'], ['girl', 'queen'], ['queen', 'princess'], ['queen', 'girl']]\n"
          ]
        }
      ]
    },
    {
      "cell_type": "code",
      "source": [
        "import pandas as pd\n",
        "data = pd.DataFrame(with_neighbors, columns=[\"input\",\"label\"])\n",
        "data.head(10)"
      ],
      "metadata": {
        "colab": {
          "base_uri": "https://localhost:8080/",
          "height": 363
        },
        "id": "zKqa75q9yguo",
        "outputId": "11f75447-b5e8-4c04-a0f0-74649e432447"
      },
      "execution_count": 23,
      "outputs": [
        {
          "output_type": "execute_result",
          "data": {
            "text/plain": [
              "    input   label\n",
              "0    king  strong\n",
              "1    king     man\n",
              "2  strong    king\n",
              "3  strong     man\n",
              "4     man    king\n",
              "5     man  strong\n",
              "6   queen    wise\n",
              "7   queen   woman\n",
              "8    wise   queen\n",
              "9    wise   woman"
            ],
            "text/html": [
              "\n",
              "  <div id=\"df-c5f5bdc6-987a-4b77-b478-bcf1f5cafdcc\">\n",
              "    <div class=\"colab-df-container\">\n",
              "      <div>\n",
              "<style scoped>\n",
              "    .dataframe tbody tr th:only-of-type {\n",
              "        vertical-align: middle;\n",
              "    }\n",
              "\n",
              "    .dataframe tbody tr th {\n",
              "        vertical-align: top;\n",
              "    }\n",
              "\n",
              "    .dataframe thead th {\n",
              "        text-align: right;\n",
              "    }\n",
              "</style>\n",
              "<table border=\"1\" class=\"dataframe\">\n",
              "  <thead>\n",
              "    <tr style=\"text-align: right;\">\n",
              "      <th></th>\n",
              "      <th>input</th>\n",
              "      <th>label</th>\n",
              "    </tr>\n",
              "  </thead>\n",
              "  <tbody>\n",
              "    <tr>\n",
              "      <th>0</th>\n",
              "      <td>king</td>\n",
              "      <td>strong</td>\n",
              "    </tr>\n",
              "    <tr>\n",
              "      <th>1</th>\n",
              "      <td>king</td>\n",
              "      <td>man</td>\n",
              "    </tr>\n",
              "    <tr>\n",
              "      <th>2</th>\n",
              "      <td>strong</td>\n",
              "      <td>king</td>\n",
              "    </tr>\n",
              "    <tr>\n",
              "      <th>3</th>\n",
              "      <td>strong</td>\n",
              "      <td>man</td>\n",
              "    </tr>\n",
              "    <tr>\n",
              "      <th>4</th>\n",
              "      <td>man</td>\n",
              "      <td>king</td>\n",
              "    </tr>\n",
              "    <tr>\n",
              "      <th>5</th>\n",
              "      <td>man</td>\n",
              "      <td>strong</td>\n",
              "    </tr>\n",
              "    <tr>\n",
              "      <th>6</th>\n",
              "      <td>queen</td>\n",
              "      <td>wise</td>\n",
              "    </tr>\n",
              "    <tr>\n",
              "      <th>7</th>\n",
              "      <td>queen</td>\n",
              "      <td>woman</td>\n",
              "    </tr>\n",
              "    <tr>\n",
              "      <th>8</th>\n",
              "      <td>wise</td>\n",
              "      <td>queen</td>\n",
              "    </tr>\n",
              "    <tr>\n",
              "      <th>9</th>\n",
              "      <td>wise</td>\n",
              "      <td>woman</td>\n",
              "    </tr>\n",
              "  </tbody>\n",
              "</table>\n",
              "</div>\n",
              "      <button class=\"colab-df-convert\" onclick=\"convertToInteractive('df-c5f5bdc6-987a-4b77-b478-bcf1f5cafdcc')\"\n",
              "              title=\"Convert this dataframe to an interactive table.\"\n",
              "              style=\"display:none;\">\n",
              "        \n",
              "  <svg xmlns=\"http://www.w3.org/2000/svg\" height=\"24px\"viewBox=\"0 0 24 24\"\n",
              "       width=\"24px\">\n",
              "    <path d=\"M0 0h24v24H0V0z\" fill=\"none\"/>\n",
              "    <path d=\"M18.56 5.44l.94 2.06.94-2.06 2.06-.94-2.06-.94-.94-2.06-.94 2.06-2.06.94zm-11 1L8.5 8.5l.94-2.06 2.06-.94-2.06-.94L8.5 2.5l-.94 2.06-2.06.94zm10 10l.94 2.06.94-2.06 2.06-.94-2.06-.94-.94-2.06-.94 2.06-2.06.94z\"/><path d=\"M17.41 7.96l-1.37-1.37c-.4-.4-.92-.59-1.43-.59-.52 0-1.04.2-1.43.59L10.3 9.45l-7.72 7.72c-.78.78-.78 2.05 0 2.83L4 21.41c.39.39.9.59 1.41.59.51 0 1.02-.2 1.41-.59l7.78-7.78 2.81-2.81c.8-.78.8-2.07 0-2.86zM5.41 20L4 18.59l7.72-7.72 1.47 1.35L5.41 20z\"/>\n",
              "  </svg>\n",
              "      </button>\n",
              "      \n",
              "  <style>\n",
              "    .colab-df-container {\n",
              "      display:flex;\n",
              "      flex-wrap:wrap;\n",
              "      gap: 12px;\n",
              "    }\n",
              "\n",
              "    .colab-df-convert {\n",
              "      background-color: #E8F0FE;\n",
              "      border: none;\n",
              "      border-radius: 50%;\n",
              "      cursor: pointer;\n",
              "      display: none;\n",
              "      fill: #1967D2;\n",
              "      height: 32px;\n",
              "      padding: 0 0 0 0;\n",
              "      width: 32px;\n",
              "    }\n",
              "\n",
              "    .colab-df-convert:hover {\n",
              "      background-color: #E2EBFA;\n",
              "      box-shadow: 0px 1px 2px rgba(60, 64, 67, 0.3), 0px 1px 3px 1px rgba(60, 64, 67, 0.15);\n",
              "      fill: #174EA6;\n",
              "    }\n",
              "\n",
              "    [theme=dark] .colab-df-convert {\n",
              "      background-color: #3B4455;\n",
              "      fill: #D2E3FC;\n",
              "    }\n",
              "\n",
              "    [theme=dark] .colab-df-convert:hover {\n",
              "      background-color: #434B5C;\n",
              "      box-shadow: 0px 1px 3px 1px rgba(0, 0, 0, 0.15);\n",
              "      filter: drop-shadow(0px 1px 2px rgba(0, 0, 0, 0.3));\n",
              "      fill: #FFFFFF;\n",
              "    }\n",
              "  </style>\n",
              "\n",
              "      <script>\n",
              "        const buttonEl =\n",
              "          document.querySelector('#df-c5f5bdc6-987a-4b77-b478-bcf1f5cafdcc button.colab-df-convert');\n",
              "        buttonEl.style.display =\n",
              "          google.colab.kernel.accessAllowed ? 'block' : 'none';\n",
              "\n",
              "        async function convertToInteractive(key) {\n",
              "          const element = document.querySelector('#df-c5f5bdc6-987a-4b77-b478-bcf1f5cafdcc');\n",
              "          const dataTable =\n",
              "            await google.colab.kernel.invokeFunction('convertToInteractive',\n",
              "                                                     [key], {});\n",
              "          if (!dataTable) return;\n",
              "\n",
              "          const docLinkHtml = 'Like what you see? Visit the ' +\n",
              "            '<a target=\"_blank\" href=https://colab.research.google.com/notebooks/data_table.ipynb>data table notebook</a>'\n",
              "            + ' to learn more about interactive tables.';\n",
              "          element.innerHTML = '';\n",
              "          dataTable['output_type'] = 'display_data';\n",
              "          await google.colab.output.renderOutput(dataTable, element);\n",
              "          const docLink = document.createElement('div');\n",
              "          docLink.innerHTML = docLinkHtml;\n",
              "          element.appendChild(docLink);\n",
              "        }\n",
              "      </script>\n",
              "    </div>\n",
              "  </div>\n",
              "  "
            ]
          },
          "metadata": {},
          "execution_count": 23
        }
      ]
    },
    {
      "cell_type": "code",
      "source": [
        "data.shape"
      ],
      "metadata": {
        "colab": {
          "base_uri": "https://localhost:8080/"
        },
        "id": "MzrdXb0Fy2Eu",
        "outputId": "abf20ca3-bebc-4c77-950f-b4589f479fbd"
      },
      "execution_count": 25,
      "outputs": [
        {
          "output_type": "execute_result",
          "data": {
            "text/plain": [
              "(52, 2)"
            ]
          },
          "metadata": {},
          "execution_count": 25
        }
      ]
    },
    {
      "cell_type": "code",
      "source": [
        "oneHot"
      ],
      "metadata": {
        "colab": {
          "base_uri": "https://localhost:8080/"
        },
        "id": "1u2kzzsJzM_l",
        "outputId": "52b960b8-d3cf-45ad-da7b-687d1146da54"
      },
      "execution_count": 26,
      "outputs": [
        {
          "output_type": "execute_result",
          "data": {
            "text/plain": [
              "{'boy': 0,\n",
              " 'young': 1,\n",
              " 'pretty': 2,\n",
              " 'woman': 3,\n",
              " 'prince': 4,\n",
              " 'king': 5,\n",
              " 'girl': 6,\n",
              " 'princess': 7,\n",
              " 'man': 8,\n",
              " 'strong': 9,\n",
              " 'queen': 10,\n",
              " 'wise': 11}"
            ]
          },
          "metadata": {},
          "execution_count": 26
        }
      ]
    },
    {
      "cell_type": "code",
      "source": [
        "import numpy as np\n",
        "import tensorflow.compat.v1 as tf\n",
        "tf.disable_v2_behavior()"
      ],
      "metadata": {
        "colab": {
          "base_uri": "https://localhost:8080/"
        },
        "id": "Fjoo-j74zdQs",
        "outputId": "c15266b6-17ae-44c8-a23d-277851cf4e34"
      },
      "execution_count": 29,
      "outputs": [
        {
          "output_type": "stream",
          "name": "stderr",
          "text": [
            "WARNING:tensorflow:From /usr/local/lib/python3.7/dist-packages/tensorflow/python/compat/v2_compat.py:107: disable_resource_variables (from tensorflow.python.ops.variable_scope) is deprecated and will be removed in a future version.\n",
            "Instructions for updating:\n",
            "non-resource variables are not supported in the long term\n"
          ]
        }
      ]
    },
    {
      "cell_type": "code",
      "source": [
        "# 단어의 개수가 12개 이므로 12차원의 one_hot 벡터 생성\n",
        "one_hot_dim = len(result)\n",
        "\n",
        "# one-hot encoding\n",
        "def one_hot_encoding(idx):\n",
        "  encoding_result = np.zeros(one_hot_dim)\n",
        "  encoding_result[idx] = 1\n",
        "  return encoding_result\n",
        "\n",
        "X = [] #input\n",
        "Y = [] #target\n",
        "\n",
        "for x,y in zip(data[\"input\"],data[\"label\"]):\n",
        "  X.append(one_hot_encoding(oneHot[x]))\n",
        "  Y.append(one_hot_encoding(oneHot[y]))\n",
        "\n",
        "# 넘파이 array로 변환\n",
        "X_train = np.asarray(X)\n",
        "Y_train = np.asarray(Y)\n",
        "\n",
        "# placeholder : 현재 값을 지정하지 않고 나중에 값을 던져줄 수 있도록 공간을 배정해놓는 것\n",
        "x = tf.placeholder(tf.float32, shape=(None, one_hot_dim))\n",
        "y_label = tf.placeholder(tf.float32, shape=(None, one_hot_dim))\n",
        "\n",
        "# 워드 임베딩 차원은 2차원으로 지정한다\n",
        "embedding_dim = 2\n",
        "\n",
        "# hidden layer : 가중치w와 바이어스 b를 지정\n",
        "# 활성화 함수(activation function)를 사용하지 않음 -> linear\n",
        "W1 = tf.Variable(tf.random_normal([one_hot_dim, embedding_dim]))\n",
        "b1 = tf.Variable(tf.random_normal([1]))\n",
        "hidden_layer = tf.add(tf.matmul(x,W1),b1)\n",
        "\n",
        "# output layer\n",
        "# 소프트맥스 함수로 probability 도출\n",
        "W2 = tf.Variable(tf.random_normal([embedding_dim, one_hot_dim]))\n",
        "b2 = tf.Variable(tf.random_normal([1]))\n",
        "prediction = tf.nn.softmax(tf.add(tf.matmul(hidden_layer, W2),b2))\n",
        "\n",
        "# 손실 함수(loss function) : 크로스 엔트로피\n",
        "# 크로스 엔트로피 : 실제 데이터의 확률 분포와 학습된 모델이 계산한 확률 분포의 차이를 구한다\n",
        "loss = tf.reduce_mean(-tf.reduce_sum(y_label * tf.log(prediction), axis=[1]))\n",
        "\n",
        "# 학습률:0.05, 손실을 최소화 하도록 학습\n",
        "train_op = tf.train.GradientDescentOptimizer(0.05).minimize(loss)"
      ],
      "metadata": {
        "id": "UCCngr4BziJ1"
      },
      "execution_count": 31,
      "outputs": []
    },
    {
      "cell_type": "code",
      "source": [
        "sess = tf.Session()\n",
        "init = tf.global_variables_initializer()\n",
        "sess.run(init)\n",
        "\n",
        "iteration = 20000\n",
        "for i in range(iteration):\n",
        "  sess.run(train_op, feed_dict={x : X_train, y_label:Y_train})\n",
        "  if i%3000 == 0:\n",
        "    print(\"iteration \"+str(i)+\"loss is :\", sess.run(loss, feed_dict={x: X_train, y_label: Y_train}))"
      ],
      "metadata": {
        "colab": {
          "base_uri": "https://localhost:8080/"
        },
        "id": "fhmIkkaY4J0d",
        "outputId": "a53a7f34-a770-470a-9d38-42d410542d54"
      },
      "execution_count": 32,
      "outputs": [
        {
          "output_type": "stream",
          "name": "stdout",
          "text": [
            "iteration 0loss is : 3.7180035\n",
            "iteration 3000loss is : 1.812454\n",
            "iteration 6000loss is : 1.761132\n",
            "iteration 9000loss is : 1.7369404\n",
            "iteration 12000loss is : 1.7234099\n",
            "iteration 15000loss is : 1.7144955\n",
            "iteration 18000loss is : 1.7078525\n"
          ]
        }
      ]
    },
    {
      "cell_type": "code",
      "source": [
        "# 가중치와 바이어스가 충분히 갱신되었을 것\n",
        "vectors = sess.run(W1+b1)\n",
        "print(vectors)"
      ],
      "metadata": {
        "colab": {
          "base_uri": "https://localhost:8080/"
        },
        "id": "BMBlB7mh4wOC",
        "outputId": "53dfff76-be61-4e17-d8de-ac5347c3892b"
      },
      "execution_count": 33,
      "outputs": [
        {
          "output_type": "stream",
          "name": "stdout",
          "text": [
            "[[ 0.32125276  1.255711  ]\n",
            " [ 0.06785035  0.16553295]\n",
            " [ 3.2441602  -3.593597  ]\n",
            " [ 0.20981157 -0.36256218]\n",
            " [ 2.7693837   5.511735  ]\n",
            " [ 0.3868152   1.0575653 ]\n",
            " [ 1.7605479  -0.5894613 ]\n",
            " [ 5.1377263  -0.17910182]\n",
            " [ 2.568724    4.521522  ]\n",
            " [ 0.270666    4.2522397 ]\n",
            " [ 0.69688684 -0.52708304]\n",
            " [ 4.733299   -2.3242402 ]]\n"
          ]
        }
      ]
    },
    {
      "cell_type": "code",
      "source": [
        "w2v_df = pd.DataFrame(vectors, columns=[\"x1\",\"x2\"])\n",
        "w2v_df[\"word\"] = list(result)\n",
        "w2v_df = w2v_df[[\"word\",\"x1\",\"x2\"]]\n",
        "w2v_df"
      ],
      "metadata": {
        "colab": {
          "base_uri": "https://localhost:8080/",
          "height": 426
        },
        "id": "tIje9Uxv5DSy",
        "outputId": "85910be4-54da-4aad-c5f5-9c86864e7e27"
      },
      "execution_count": 36,
      "outputs": [
        {
          "output_type": "execute_result",
          "data": {
            "text/plain": [
              "        word        x1        x2\n",
              "0        boy  0.321253  1.255711\n",
              "1      young  0.067850  0.165533\n",
              "2     pretty  3.244160 -3.593597\n",
              "3      woman  0.209812 -0.362562\n",
              "4     prince  2.769384  5.511735\n",
              "5       king  0.386815  1.057565\n",
              "6       girl  1.760548 -0.589461\n",
              "7   princess  5.137726 -0.179102\n",
              "8        man  2.568724  4.521522\n",
              "9     strong  0.270666  4.252240\n",
              "10     queen  0.696887 -0.527083\n",
              "11      wise  4.733299 -2.324240"
            ],
            "text/html": [
              "\n",
              "  <div id=\"df-8be9b22b-7f31-4b8c-b603-610007271e26\">\n",
              "    <div class=\"colab-df-container\">\n",
              "      <div>\n",
              "<style scoped>\n",
              "    .dataframe tbody tr th:only-of-type {\n",
              "        vertical-align: middle;\n",
              "    }\n",
              "\n",
              "    .dataframe tbody tr th {\n",
              "        vertical-align: top;\n",
              "    }\n",
              "\n",
              "    .dataframe thead th {\n",
              "        text-align: right;\n",
              "    }\n",
              "</style>\n",
              "<table border=\"1\" class=\"dataframe\">\n",
              "  <thead>\n",
              "    <tr style=\"text-align: right;\">\n",
              "      <th></th>\n",
              "      <th>word</th>\n",
              "      <th>x1</th>\n",
              "      <th>x2</th>\n",
              "    </tr>\n",
              "  </thead>\n",
              "  <tbody>\n",
              "    <tr>\n",
              "      <th>0</th>\n",
              "      <td>boy</td>\n",
              "      <td>0.321253</td>\n",
              "      <td>1.255711</td>\n",
              "    </tr>\n",
              "    <tr>\n",
              "      <th>1</th>\n",
              "      <td>young</td>\n",
              "      <td>0.067850</td>\n",
              "      <td>0.165533</td>\n",
              "    </tr>\n",
              "    <tr>\n",
              "      <th>2</th>\n",
              "      <td>pretty</td>\n",
              "      <td>3.244160</td>\n",
              "      <td>-3.593597</td>\n",
              "    </tr>\n",
              "    <tr>\n",
              "      <th>3</th>\n",
              "      <td>woman</td>\n",
              "      <td>0.209812</td>\n",
              "      <td>-0.362562</td>\n",
              "    </tr>\n",
              "    <tr>\n",
              "      <th>4</th>\n",
              "      <td>prince</td>\n",
              "      <td>2.769384</td>\n",
              "      <td>5.511735</td>\n",
              "    </tr>\n",
              "    <tr>\n",
              "      <th>5</th>\n",
              "      <td>king</td>\n",
              "      <td>0.386815</td>\n",
              "      <td>1.057565</td>\n",
              "    </tr>\n",
              "    <tr>\n",
              "      <th>6</th>\n",
              "      <td>girl</td>\n",
              "      <td>1.760548</td>\n",
              "      <td>-0.589461</td>\n",
              "    </tr>\n",
              "    <tr>\n",
              "      <th>7</th>\n",
              "      <td>princess</td>\n",
              "      <td>5.137726</td>\n",
              "      <td>-0.179102</td>\n",
              "    </tr>\n",
              "    <tr>\n",
              "      <th>8</th>\n",
              "      <td>man</td>\n",
              "      <td>2.568724</td>\n",
              "      <td>4.521522</td>\n",
              "    </tr>\n",
              "    <tr>\n",
              "      <th>9</th>\n",
              "      <td>strong</td>\n",
              "      <td>0.270666</td>\n",
              "      <td>4.252240</td>\n",
              "    </tr>\n",
              "    <tr>\n",
              "      <th>10</th>\n",
              "      <td>queen</td>\n",
              "      <td>0.696887</td>\n",
              "      <td>-0.527083</td>\n",
              "    </tr>\n",
              "    <tr>\n",
              "      <th>11</th>\n",
              "      <td>wise</td>\n",
              "      <td>4.733299</td>\n",
              "      <td>-2.324240</td>\n",
              "    </tr>\n",
              "  </tbody>\n",
              "</table>\n",
              "</div>\n",
              "      <button class=\"colab-df-convert\" onclick=\"convertToInteractive('df-8be9b22b-7f31-4b8c-b603-610007271e26')\"\n",
              "              title=\"Convert this dataframe to an interactive table.\"\n",
              "              style=\"display:none;\">\n",
              "        \n",
              "  <svg xmlns=\"http://www.w3.org/2000/svg\" height=\"24px\"viewBox=\"0 0 24 24\"\n",
              "       width=\"24px\">\n",
              "    <path d=\"M0 0h24v24H0V0z\" fill=\"none\"/>\n",
              "    <path d=\"M18.56 5.44l.94 2.06.94-2.06 2.06-.94-2.06-.94-.94-2.06-.94 2.06-2.06.94zm-11 1L8.5 8.5l.94-2.06 2.06-.94-2.06-.94L8.5 2.5l-.94 2.06-2.06.94zm10 10l.94 2.06.94-2.06 2.06-.94-2.06-.94-.94-2.06-.94 2.06-2.06.94z\"/><path d=\"M17.41 7.96l-1.37-1.37c-.4-.4-.92-.59-1.43-.59-.52 0-1.04.2-1.43.59L10.3 9.45l-7.72 7.72c-.78.78-.78 2.05 0 2.83L4 21.41c.39.39.9.59 1.41.59.51 0 1.02-.2 1.41-.59l7.78-7.78 2.81-2.81c.8-.78.8-2.07 0-2.86zM5.41 20L4 18.59l7.72-7.72 1.47 1.35L5.41 20z\"/>\n",
              "  </svg>\n",
              "      </button>\n",
              "      \n",
              "  <style>\n",
              "    .colab-df-container {\n",
              "      display:flex;\n",
              "      flex-wrap:wrap;\n",
              "      gap: 12px;\n",
              "    }\n",
              "\n",
              "    .colab-df-convert {\n",
              "      background-color: #E8F0FE;\n",
              "      border: none;\n",
              "      border-radius: 50%;\n",
              "      cursor: pointer;\n",
              "      display: none;\n",
              "      fill: #1967D2;\n",
              "      height: 32px;\n",
              "      padding: 0 0 0 0;\n",
              "      width: 32px;\n",
              "    }\n",
              "\n",
              "    .colab-df-convert:hover {\n",
              "      background-color: #E2EBFA;\n",
              "      box-shadow: 0px 1px 2px rgba(60, 64, 67, 0.3), 0px 1px 3px 1px rgba(60, 64, 67, 0.15);\n",
              "      fill: #174EA6;\n",
              "    }\n",
              "\n",
              "    [theme=dark] .colab-df-convert {\n",
              "      background-color: #3B4455;\n",
              "      fill: #D2E3FC;\n",
              "    }\n",
              "\n",
              "    [theme=dark] .colab-df-convert:hover {\n",
              "      background-color: #434B5C;\n",
              "      box-shadow: 0px 1px 3px 1px rgba(0, 0, 0, 0.15);\n",
              "      filter: drop-shadow(0px 1px 2px rgba(0, 0, 0, 0.3));\n",
              "      fill: #FFFFFF;\n",
              "    }\n",
              "  </style>\n",
              "\n",
              "      <script>\n",
              "        const buttonEl =\n",
              "          document.querySelector('#df-8be9b22b-7f31-4b8c-b603-610007271e26 button.colab-df-convert');\n",
              "        buttonEl.style.display =\n",
              "          google.colab.kernel.accessAllowed ? 'block' : 'none';\n",
              "\n",
              "        async function convertToInteractive(key) {\n",
              "          const element = document.querySelector('#df-8be9b22b-7f31-4b8c-b603-610007271e26');\n",
              "          const dataTable =\n",
              "            await google.colab.kernel.invokeFunction('convertToInteractive',\n",
              "                                                     [key], {});\n",
              "          if (!dataTable) return;\n",
              "\n",
              "          const docLinkHtml = 'Like what you see? Visit the ' +\n",
              "            '<a target=\"_blank\" href=https://colab.research.google.com/notebooks/data_table.ipynb>data table notebook</a>'\n",
              "            + ' to learn more about interactive tables.';\n",
              "          element.innerHTML = '';\n",
              "          dataTable['output_type'] = 'display_data';\n",
              "          await google.colab.output.renderOutput(dataTable, element);\n",
              "          const docLink = document.createElement('div');\n",
              "          docLink.innerHTML = docLinkHtml;\n",
              "          element.appendChild(docLink);\n",
              "        }\n",
              "      </script>\n",
              "    </div>\n",
              "  </div>\n",
              "  "
            ]
          },
          "metadata": {},
          "execution_count": 36
        }
      ]
    },
    {
      "cell_type": "markdown",
      "source": [
        "차트로 확인하기"
      ],
      "metadata": {
        "id": "rqJRtSjr6vU5"
      }
    },
    {
      "cell_type": "code",
      "source": [
        "import matplotlib.pyplot as plt\n",
        "\n",
        "fig, ax = plt.subplots()\n",
        "\n",
        "for word, x1, x2 in zip(w2v_df[\"word\"], w2v_df[\"x1\"], w2v_df[\"x2\"]):\n",
        "  ax.annotate(word, (x1,x2))\n",
        "padding = 1.0\n",
        "x_axis_min = np.amin(vectors, axis=0)[0] - padding\n",
        "y_axis_min = np.amin(vectors, axis=0)[1] - padding\n",
        "x_axis_max = np.amax(vectors, axis=0)[0] + padding\n",
        "y_axis_max = np.amax(vectors, axis=0)[1] + padding\n",
        "\n",
        "plt.xlim(x_axis_min,x_axis_max)\n",
        "plt.ylim(y_axis_min, y_axis_max)\n",
        "plt.rcParams[\"figure.figsize\"] = (10,10)\n",
        "\n",
        "plt.show()"
      ],
      "metadata": {
        "colab": {
          "base_uri": "https://localhost:8080/",
          "height": 265
        },
        "id": "sFLXOnl550XK",
        "outputId": "98b6ddd8-3fae-4b57-afa6-718ff81ed493"
      },
      "execution_count": 37,
      "outputs": [
        {
          "output_type": "display_data",
          "data": {
            "text/plain": [
              "<Figure size 432x288 with 1 Axes>"
            ],
            "image/png": "[encoded data removed]"
          },
          "metadata": {
            "needs_background": "light"
          }
        }
      ]
    }
  ]
}