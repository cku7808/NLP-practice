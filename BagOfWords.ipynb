{
  "nbformat": 4,
  "nbformat_minor": 0,
  "metadata": {
    "colab": {
      "name": "BagOfWords.ipynb",
      "provenance": [],
      "authorship_tag": "ABX9TyONAlaoouIX2c8DMqcaKCsk",
      "include_colab_link": true
    },
    "kernelspec": {
      "name": "python3",
      "display_name": "Python 3"
    },
    "language_info": {
      "name": "python"
    }
  },
  "cells": [
    {
      "cell_type": "markdown",
      "metadata": {
        "id": "view-in-github",
        "colab_type": "text"
      },
      "source": [
        "<a href=\"https://colab.research.google.com/github/cku7808/NLP-practice/blob/main/BagOfWords.ipynb\" target=\"_parent\"><img src=\"https://colab.research.google.com/assets/colab-badge.svg\" alt=\"Open In Colab\"/></a>"
      ]
    },
    {
      "cell_type": "markdown",
      "source": [
        "# **Bag Of Words(BoW)**"
      ],
      "metadata": {
        "id": "NSSnFjvn1aog"
      }
    },
    {
      "cell_type": "markdown",
      "source": [
        "**단어의 등장 순서를 고려하지 않는 빈도 수 기반의 단어 표현 방법**"
      ],
      "metadata": {
        "id": "uL5wZk0C1e8U"
      }
    },
    {
      "cell_type": "markdown",
      "source": [
        "BoW 만드는 과정\n",
        "1. 각 단어에 고유한 정수 인덱스 부여\n",
        "2. 각 인덱스 위치에 단어 토큰의 등장 횟수 벡터 생성"
      ],
      "metadata": {
        "id": "6XdqWvGp1v-0"
      }
    },
    {
      "cell_type": "markdown",
      "source": [
        "예제 1) 정부가 발표하는 물가상승률과 소비자가 느끼는 물가상승률은 다르다."
      ],
      "metadata": {
        "id": "HMWseghh1_ur"
      }
    },
    {
      "cell_type": "code",
      "source": [
        "pip install konlpy"
      ],
      "metadata": {
        "colab": {
          "base_uri": "https://localhost:8080/"
        },
        "id": "imcL_4ls4Q5f",
        "outputId": "1f78cd32-8a59-455a-974a-d24c44bda6a8"
      },
      "execution_count": 6,
      "outputs": [
        {
          "output_type": "stream",
          "name": "stdout",
          "text": [
            "Looking in indexes: https://pypi.org/simple, https://us-python.pkg.dev/colab-wheels/public/simple/\n",
            "Requirement already satisfied: konlpy in /usr/local/lib/python3.7/dist-packages (0.6.0)\n",
            "Requirement already satisfied: lxml>=4.1.0 in /usr/local/lib/python3.7/dist-packages (from konlpy) (4.9.1)\n",
            "Requirement already satisfied: JPype1>=0.7.0 in /usr/local/lib/python3.7/dist-packages (from konlpy) (1.4.0)\n",
            "Requirement already satisfied: numpy>=1.6 in /usr/local/lib/python3.7/dist-packages (from konlpy) (1.21.6)\n",
            "Requirement already satisfied: typing-extensions in /usr/local/lib/python3.7/dist-packages (from JPype1>=0.7.0->konlpy) (4.1.1)\n"
          ]
        }
      ]
    },
    {
      "cell_type": "code",
      "source": [
        "from konlpy.tag import Okt\n",
        "\n",
        "okt = Okt()"
      ],
      "metadata": {
        "id": "9uFKC6kg3wWz"
      },
      "execution_count": 7,
      "outputs": []
    },
    {
      "cell_type": "code",
      "execution_count": 8,
      "metadata": {
        "id": "7wVLTbTp1L2p"
      },
      "outputs": [],
      "source": [
        "def build_bag_of_words(document):\n",
        "  document = document.replace(\".\",\"\") # 온점 제거\n",
        "  tokenized_document = okt.morphs(document) # okt.morphs : 텍스트를 형태소 단위로 나눔\n",
        "\n",
        "  word_to_index = {} # 단어 사전\n",
        "  bow = [] # 등장 횟수\n",
        "\n",
        "  for word in tokenized_document:\n",
        "    if word not in word_to_index.keys(): # 단어 사전에 등장하지 않은 단어\n",
        "      word_to_index[word] = len(word_to_index) # 고유한 정수 인덱스 부여\n",
        "      bow.insert(len(word_to_index)-1, 1) # bow에 기본값 1 부여\n",
        "    else: # 재등장하는 단어\n",
        "      index = word_to_index.get(word) # 재등장한 단어의 인덱스 값 받기\n",
        "      bow[index] += 1 # 등장 횟수에 1을 더하기\n",
        "\n",
        "  return word_to_index, bow "
      ]
    },
    {
      "cell_type": "code",
      "source": [
        "doc1 = \"정부가 발표하는 물가상승률과 소비자가 느끼는 물가상승률은 다르다.\"\n",
        "vocab, bow = build_bag_of_words(doc1)\n",
        "\n",
        "print(\"vocabulary :\",vocab)\n",
        "print(\"bag of words vector :\",bow)"
      ],
      "metadata": {
        "colab": {
          "base_uri": "https://localhost:8080/"
        },
        "id": "9bxgANTH3x8o",
        "outputId": "82d071f6-cde6-49bf-f46e-16b87d57968b"
      },
      "execution_count": 9,
      "outputs": [
        {
          "output_type": "stream",
          "name": "stdout",
          "text": [
            "vocabulary : {'정부': 0, '가': 1, '발표': 2, '하는': 3, '물가상승률': 4, '과': 5, '소비자': 6, '느끼는': 7, '은': 8, '다르다': 9}\n",
            "bag of words vector : [1, 2, 1, 1, 2, 1, 1, 1, 1, 1]\n"
          ]
        }
      ]
    },
    {
      "cell_type": "markdown",
      "source": [
        "# **영어 코퍼스에 대해 BoW 만들기 -> CountVectorizer 사용**"
      ],
      "metadata": {
        "id": "NgXKBES64q6T"
      }
    },
    {
      "cell_type": "markdown",
      "source": [
        "CountVectorizer가 수행하는 일\n",
        "1. 문서를 토큰 리스트로 변환한다.\n",
        "\n",
        "2. 각 문서에서 토큰의 출현 빈도를 센다.\n",
        "\n",
        "3. 각 문서를 BOW 인코딩 벡터로 변환한다."
      ],
      "metadata": {
        "id": "VbD8-efQ8SSc"
      }
    },
    {
      "cell_type": "code",
      "source": [
        "from sklearn.feature_extraction.text import CountVectorizer"
      ],
      "metadata": {
        "id": "dAMcfkzL4vBe"
      },
      "execution_count": 10,
      "outputs": []
    },
    {
      "cell_type": "code",
      "source": [
        "corpus = [\"you know I want your love. because I love you.\"]\n",
        "vector = CountVectorizer()\n",
        "\n",
        "# 단어 빈도수 기록(BoW)\n",
        "print(\"bag of words :\",vector.fit_transform(corpus).toarray())\n",
        "\n",
        "# 단어 인덱스 부여 결과 확인\n",
        "print(\"vocabulary :\",vector.vocabulary_)"
      ],
      "metadata": {
        "colab": {
          "base_uri": "https://localhost:8080/"
        },
        "id": "DsSHQe9Y451Y",
        "outputId": "7de06764-afa6-42a6-cb45-8e679befca1a"
      },
      "execution_count": 12,
      "outputs": [
        {
          "output_type": "stream",
          "name": "stdout",
          "text": [
            "bag of words : [[1 1 2 1 2 1]]\n",
            "vocabulary : {'you': 4, 'know': 1, 'want': 3, 'your': 5, 'love': 2, 'because': 0}\n"
          ]
        }
      ]
    },
    {
      "cell_type": "markdown",
      "source": [
        "# **불용어를 제거한 BoW**"
      ],
      "metadata": {
        "id": "30zLgxYs6qBs"
      }
    },
    {
      "cell_type": "markdown",
      "source": [
        "불용어 : 자연어 처리에서 별로 의미를 갖지 않는 단어들\n",
        "ex) the, a, an, is, not ,,,"
      ],
      "metadata": {
        "id": "Efp2pSsI6wvL"
      }
    },
    {
      "cell_type": "markdown",
      "source": [
        "CountVectorizer 는 불용어 제거 기능 지원 -> 직접 불용어 지정도 가능"
      ],
      "metadata": {
        "id": "Xniq5zpH7HG-"
      }
    },
    {
      "cell_type": "markdown",
      "source": [
        "**(1) 사용자 정의 불용어 제거**"
      ],
      "metadata": {
        "id": "iPdFq5tN7Pba"
      }
    },
    {
      "cell_type": "code",
      "source": [
        "text = [\"family is not an important thing. It's everything.\"]\n",
        "vect = CountVectorizer(stop_words=[\"the\",\"a\",\"an\",\"is\",\"not\"])\n",
        "print(\"bag of words :\", vect.fit_transform(text).toarray())\n",
        "print(\"vocabulary :\",vect.vocabulary_)"
      ],
      "metadata": {
        "colab": {
          "base_uri": "https://localhost:8080/"
        },
        "id": "ykX5Dn4_65Wc",
        "outputId": "ffd16145-ae32-46d8-8fcf-19fd99df8cf9"
      },
      "execution_count": 13,
      "outputs": [
        {
          "output_type": "stream",
          "name": "stdout",
          "text": [
            "bag of words : [[1 1 1 1 1]]\n",
            "vocabulary : {'family': 1, 'important': 2, 'thing': 4, 'it': 3, 'everything': 0}\n"
          ]
        }
      ]
    },
    {
      "cell_type": "markdown",
      "source": [
        "**(2) CountVectorizer 제공 불용어 제거**"
      ],
      "metadata": {
        "id": "3PsmH26w_OEE"
      }
    },
    {
      "cell_type": "code",
      "source": [
        "text = [\"family is not an important thing. It's everything.\"]\n",
        "vect = CountVectorizer(stop_words=\"english\")\n",
        "print(\"bag of words :\", vect.fit_transform(text).toarray())\n",
        "print(\"vocabulary :\",vect.vocabulary_)"
      ],
      "metadata": {
        "colab": {
          "base_uri": "https://localhost:8080/"
        },
        "id": "0ssFTgv8_Ucr",
        "outputId": "f354659b-41b3-42e3-f1c1-3cc3e3751fff"
      },
      "execution_count": 14,
      "outputs": [
        {
          "output_type": "stream",
          "name": "stdout",
          "text": [
            "bag of words : [[1 1 1]]\n",
            "vocabulary : {'family': 0, 'important': 1, 'thing': 2}\n"
          ]
        }
      ]
    },
    {
      "cell_type": "markdown",
      "source": [
        "**(3) NLTK 제공 불용어 제거**"
      ],
      "metadata": {
        "id": "xuA1Tqbm_f-G"
      }
    },
    {
      "cell_type": "code",
      "source": [
        "import nltk\n",
        "nltk.download(\"stopwords\")"
      ],
      "metadata": {
        "colab": {
          "base_uri": "https://localhost:8080/"
        },
        "id": "hxP-IAjMAMCs",
        "outputId": "27cf7270-74d2-4706-eb73-bfb7978ef1fd"
      },
      "execution_count": 17,
      "outputs": [
        {
          "output_type": "stream",
          "name": "stderr",
          "text": [
            "[nltk_data] Downloading package stopwords to /root/nltk_data...\n",
            "[nltk_data]   Unzipping corpora/stopwords.zip.\n"
          ]
        },
        {
          "output_type": "execute_result",
          "data": {
            "text/plain": [
              "True"
            ]
          },
          "metadata": {},
          "execution_count": 17
        }
      ]
    },
    {
      "cell_type": "code",
      "source": [
        "text = [\"family is not an important thing. It's everything.\"]\n",
        "stop_words = stopwords.words(\"english\")\n",
        "vect = CountVectorizer(stop_words=stop_words)\n",
        "print(\"bag of words :\", vect.fit_transform(text).toarray())\n",
        "print(\"vocabulary :\",vect.vocabulary_)"
      ],
      "metadata": {
        "colab": {
          "base_uri": "https://localhost:8080/"
        },
        "id": "iFV1F9-G_kwT",
        "outputId": "b194d71d-3253-4514-fa1d-f898713146b3"
      },
      "execution_count": 18,
      "outputs": [
        {
          "output_type": "stream",
          "name": "stdout",
          "text": [
            "bag of words : [[1 1 1 1]]\n",
            "vocabulary : {'family': 1, 'important': 2, 'thing': 3, 'everything': 0}\n"
          ]
        }
      ]
    }
  ]
}